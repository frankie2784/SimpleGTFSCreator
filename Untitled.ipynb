{
 "cells": [
  {
   "cell_type": "code",
   "execution_count": 1,
   "metadata": {},
   "outputs": [],
   "source": [
    "x = (2,4,5,6)\n",
    "y = (7,)"
   ]
  },
  {
   "cell_type": "code",
   "execution_count": 2,
   "metadata": {},
   "outputs": [
    {
     "data": {
      "text/plain": [
       "(2, 4, 5, 6)"
      ]
     },
     "execution_count": 2,
     "metadata": {},
     "output_type": "execute_result"
    }
   ],
   "source": [
    "x"
   ]
  },
  {
   "cell_type": "code",
   "execution_count": 3,
   "metadata": {},
   "outputs": [
    {
     "data": {
      "text/plain": [
       "(7,)"
      ]
     },
     "execution_count": 3,
     "metadata": {},
     "output_type": "execute_result"
    }
   ],
   "source": [
    "y"
   ]
  },
  {
   "cell_type": "code",
   "execution_count": 5,
   "metadata": {},
   "outputs": [],
   "source": [
    "z = (x[0:3])+y+(x[3],)\n"
   ]
  },
  {
   "cell_type": "code",
   "execution_count": 6,
   "metadata": {},
   "outputs": [
    {
     "data": {
      "text/plain": [
       "(2, 4, 5, 7, 6)"
      ]
     },
     "execution_count": 6,
     "metadata": {},
     "output_type": "execute_result"
    }
   ],
   "source": [
    "z"
   ]
  },
  {
   "cell_type": "code",
   "execution_count": 35,
   "metadata": {},
   "outputs": [],
   "source": []
  },
  {
   "cell_type": "code",
   "execution_count": 37,
   "metadata": {},
   "outputs": [
    {
     "name": "stdout",
     "output_type": "stream",
     "text": [
      "{'route': '1', 'headway': '8', 'period': 'AM', 'year': '2021'}\n",
      "{'route': '1', 'headway': '10', 'period': 'IP', 'year': '2021'}\n",
      "{'route': '1', 'headway': '8', 'period': 'PM', 'year': '2021'}\n",
      "{'route': '1', 'headway': '20', 'period': 'OP', 'year': '2021'}\n",
      "{'route': '1', 'headway': '8', 'period': 'AM', 'year': '2026'}\n",
      "{'route': '1', 'headway': '10', 'period': 'IP', 'year': '2026'}\n",
      "{'route': '1', 'headway': '8', 'period': 'PM', 'year': '2026'}\n",
      "{'route': '1', 'headway': '15', 'period': 'OP', 'year': '2026'}\n",
      "{'route': '1', 'headway': '8', 'period': 'AM', 'year': '2031'}\n",
      "{'route': '1', 'headway': '10', 'period': 'IP', 'year': '2031'}\n",
      "{'route': '1', 'headway': '8', 'period': 'PM', 'year': '2031'}\n",
      "{'route': '1', 'headway': '15', 'period': 'OP', 'year': '2031'}\n",
      "{'route': '1', 'headway': '8', 'period': 'AM', 'year': '2036'}\n",
      "{'route': '1', 'headway': '10', 'period': 'IP', 'year': '2036'}\n",
      "{'route': '1', 'headway': '8', 'period': 'PM', 'year': '2036'}\n",
      "{'route': '1', 'headway': '15', 'period': 'OP', 'year': '2036'}\n",
      "{'route': '1', 'headway': '8', 'period': 'AM', 'year': '2041'}\n",
      "{'route': '1', 'headway': '10', 'period': 'IP', 'year': '2041'}\n",
      "{'route': '1', 'headway': '8', 'period': 'PM', 'year': '2041'}\n",
      "{'route': '1', 'headway': '15', 'period': 'OP', 'year': '2041'}\n",
      "{'route': '1', 'headway': '8', 'period': 'AM', 'year': '2051'}\n",
      "{'route': '1', 'headway': '10', 'period': 'IP', 'year': '2051'}\n",
      "{'route': '1', 'headway': '8', 'period': 'PM', 'year': '2051'}\n",
      "{'route': '1', 'headway': '15', 'period': 'OP', 'year': '2051'}\n"
     ]
    }
   ],
   "source": []
  },
  {
   "cell_type": "code",
   "execution_count": null,
   "metadata": {},
   "outputs": [],
   "source": []
  }
 ],
 "metadata": {
  "kernelspec": {
   "display_name": "Python 2",
   "language": "python",
   "name": "python2"
  },
  "language_info": {
   "codemirror_mode": {
    "name": "ipython",
    "version": 2
   },
   "file_extension": ".py",
   "mimetype": "text/x-python",
   "name": "python",
   "nbconvert_exporter": "python",
   "pygments_lexer": "ipython2",
   "version": "2.7.17"
  }
 },
 "nbformat": 4,
 "nbformat_minor": 2
}
