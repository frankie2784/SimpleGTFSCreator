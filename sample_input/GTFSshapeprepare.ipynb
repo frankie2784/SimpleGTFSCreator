{
 "cells": [
  {
   "cell_type": "code",
   "execution_count": 239,
   "metadata": {},
   "outputs": [],
   "source": [
    "import geopandas as gpd\n",
    "from shapely.geometry import LineString, MultiLineString\n",
    "route = gpd.read_file(\"Tramroute.shp\")"
   ]
  },
  {
   "cell_type": "code",
   "execution_count": 240,
   "metadata": {},
   "outputs": [],
   "source": [
    "stops = gpd.read_file(\"Tramstops.shp\")"
   ]
  },
  {
   "cell_type": "code",
   "execution_count": 241,
   "metadata": {},
   "outputs": [],
   "source": [
    "stops.rename({'STOP_ID':'id'},inplace=True)\n",
    "stops['id'] = stops['id'].apply(int)"
   ]
  },
  {
   "cell_type": "code",
   "execution_count": 242,
   "metadata": {},
   "outputs": [],
   "source": [
    "stops.to_file(\"Tramstops.shp\")"
   ]
  },
  {
   "cell_type": "code",
   "execution_count": 243,
   "metadata": {},
   "outputs": [
    {
     "data": {
      "text/html": [
       "<div>\n",
       "<style scoped>\n",
       "    .dataframe tbody tr th:only-of-type {\n",
       "        vertical-align: middle;\n",
       "    }\n",
       "\n",
       "    .dataframe tbody tr th {\n",
       "        vertical-align: top;\n",
       "    }\n",
       "\n",
       "    .dataframe thead th {\n",
       "        text-align: right;\n",
       "    }\n",
       "</style>\n",
       "<table border=\"1\" class=\"dataframe\">\n",
       "  <thead>\n",
       "    <tr style=\"text-align: right;\">\n",
       "      <th></th>\n",
       "      <th>id</th>\n",
       "      <th>name</th>\n",
       "      <th>LATITUDE</th>\n",
       "      <th>LONGITUDE</th>\n",
       "      <th>TICKETZONE</th>\n",
       "      <th>TRAM_TRACK</th>\n",
       "      <th>ROUTES_USI</th>\n",
       "      <th>geometry</th>\n",
       "    </tr>\n",
       "  </thead>\n",
       "  <tbody>\n",
       "    <tr>\n",
       "      <th>0</th>\n",
       "      <td>18224</td>\n",
       "      <td>20-Kings Way/Sturt St (Southbank)</td>\n",
       "      <td>-37.830136</td>\n",
       "      <td>144.965310</td>\n",
       "      <td>1</td>\n",
       "      <td>1230</td>\n",
       "      <td>1</td>\n",
       "      <td>POINT (144.96535 -37.83015)</td>\n",
       "    </tr>\n",
       "    <tr>\n",
       "      <th>1</th>\n",
       "      <td>18225</td>\n",
       "      <td>19-Miles St/Sturt St (Southbank)</td>\n",
       "      <td>-37.828431</td>\n",
       "      <td>144.965755</td>\n",
       "      <td>1</td>\n",
       "      <td>1229</td>\n",
       "      <td>1</td>\n",
       "      <td>POINT (144.96585 -37.82846)</td>\n",
       "    </tr>\n",
       "    <tr>\n",
       "      <th>2</th>\n",
       "      <td>18226</td>\n",
       "      <td>18-Grant St/Sturt St (Southbank)</td>\n",
       "      <td>-37.825779</td>\n",
       "      <td>144.966634</td>\n",
       "      <td>1</td>\n",
       "      <td>1228</td>\n",
       "      <td>1</td>\n",
       "      <td>POINT (144.96666 -37.82579)</td>\n",
       "    </tr>\n",
       "    <tr>\n",
       "      <th>3</th>\n",
       "      <td>18227</td>\n",
       "      <td>17-Southbank Bvd/Sturt St (Southbank)</td>\n",
       "      <td>-37.823771</td>\n",
       "      <td>144.967235</td>\n",
       "      <td>1</td>\n",
       "      <td>1227</td>\n",
       "      <td>1</td>\n",
       "      <td>POINT (144.96727 -37.82378)</td>\n",
       "    </tr>\n",
       "    <tr>\n",
       "      <th>4</th>\n",
       "      <td>18481</td>\n",
       "      <td>22-Dorcas St/Eastern Rd (South Melbourne)</td>\n",
       "      <td>-37.832221</td>\n",
       "      <td>144.964992</td>\n",
       "      <td>1</td>\n",
       "      <td>1232</td>\n",
       "      <td>1</td>\n",
       "      <td>POINT (144.96504 -37.83220)</td>\n",
       "    </tr>\n",
       "  </tbody>\n",
       "</table>\n",
       "</div>"
      ],
      "text/plain": [
       "      id                                       name   LATITUDE   LONGITUDE  \\\n",
       "0  18224          20-Kings Way/Sturt St (Southbank) -37.830136  144.965310   \n",
       "1  18225           19-Miles St/Sturt St (Southbank) -37.828431  144.965755   \n",
       "2  18226           18-Grant St/Sturt St (Southbank) -37.825779  144.966634   \n",
       "3  18227      17-Southbank Bvd/Sturt St (Southbank) -37.823771  144.967235   \n",
       "4  18481  22-Dorcas St/Eastern Rd (South Melbourne) -37.832221  144.964992   \n",
       "\n",
       "  TICKETZONE  TRAM_TRACK ROUTES_USI                     geometry  \n",
       "0          1        1230          1  POINT (144.96535 -37.83015)  \n",
       "1          1        1229          1  POINT (144.96585 -37.82846)  \n",
       "2          1        1228          1  POINT (144.96666 -37.82579)  \n",
       "3          1        1227          1  POINT (144.96727 -37.82378)  \n",
       "4          1        1232          1  POINT (144.96504 -37.83220)  "
      ]
     },
     "execution_count": 243,
     "metadata": {},
     "output_type": "execute_result"
    }
   ],
   "source": [
    "stops.head()"
   ]
  },
  {
   "cell_type": "code",
   "execution_count": 244,
   "metadata": {},
   "outputs": [],
   "source": [
    "line = route.geometry[0]\n",
    "# First coords of line (start + end)\n",
    "coords = [l for l in line.coords]\n",
    "pointcoords = []\n",
    "# Add the coords from the points\n",
    "for i in range(len(stops)):\n",
    "    pointcoords += stops.geometry[i].coords\n",
    "    coords += stops.geometry[i].coords\n",
    "# Calculate the distance along the line for each point\n",
    "dists = [line.project(Point(p)) for p in coords]\n",
    "pointdists = [line.project(Point(p)) for p in pointcoords]\n",
    "# sort the coordinates\n",
    "sortpointcoords = [p for (d, p) in sorted(zip(pointdists, pointcoords))]\n",
    "\n",
    "coords = [p for (d, p) in sorted(zip(dists, coords))]\n",
    "lines = [LineString([coords[i], coords[i+1]]) for i in range(len(coords)-1)]"
   ]
  },
  {
   "cell_type": "code",
   "execution_count": 251,
   "metadata": {},
   "outputs": [],
   "source": [
    "stops['distance'] = stops.to_crs({'init': 'epsg:28355'})['geometry'].apply(lambda p: route.to_crs({'init': 'epsg:28355'}).geometry[0].project(p))\n",
    "stops.sort_values(['distance'],inplace=True)\n",
    "stops.reset_index(drop=True,inplace=True)"
   ]
  },
  {
   "cell_type": "code",
   "execution_count": 252,
   "metadata": {},
   "outputs": [],
   "source": [
    "stops.loc[0,'distance'] = 0\n",
    "stops.loc[stops.index[-1],'distance'] = route.to_crs({'init': 'epsg:28355'}).geometry[0].length"
   ]
  },
  {
   "cell_type": "code",
   "execution_count": 253,
   "metadata": {},
   "outputs": [],
   "source": [
    "stops['distance'] = stops['distance'].diff()"
   ]
  },
  {
   "cell_type": "code",
   "execution_count": 265,
   "metadata": {},
   "outputs": [
    {
     "data": {
      "text/plain": [
       "{'init': 'epsg:4326'}"
      ]
     },
     "execution_count": 265,
     "metadata": {},
     "output_type": "execute_result"
    }
   ],
   "source": [
    "stops.crs"
   ]
  },
  {
   "cell_type": "code",
   "execution_count": 257,
   "metadata": {},
   "outputs": [
    {
     "name": "stdout",
     "output_type": "stream",
     "text": [
      "[<shapely.geometry.linestring.LineString object at 0x7ff3a9c05cd0>, <shapely.geometry.linestring.LineString object at 0x7ff3a9c050d0>, <shapely.geometry.linestring.LineString object at 0x7ff3a9c05fa0>, <shapely.geometry.linestring.LineString object at 0x7ff3a9c05ca0>, <shapely.geometry.linestring.LineString object at 0x7ff3a9c05550>, <shapely.geometry.linestring.LineString object at 0x7ff3a9c052b0>, <shapely.geometry.linestring.LineString object at 0x7ff3a9c2e4c0>, <shapely.geometry.linestring.LineString object at 0x7ff3a9c2e430>, <shapely.geometry.linestring.LineString object at 0x7ff3a9c05970>, <shapely.geometry.linestring.LineString object at 0x7ff3a9c2e460>, <shapely.geometry.linestring.LineString object at 0x7ff3a9c2e850>, <shapely.geometry.linestring.LineString object at 0x7ff3a9c2e4f0>, <shapely.geometry.linestring.LineString object at 0x7ff3a9c2e490>, <shapely.geometry.linestring.LineString object at 0x7ff3a9c2e520>, <shapely.geometry.linestring.LineString object at 0x7ff3a9c2e8e0>, <shapely.geometry.linestring.LineString object at 0x7ff3a9c2e580>, <shapely.geometry.linestring.LineString object at 0x7ff3a9c2e550>, <shapely.geometry.linestring.LineString object at 0x7ff3a9c2e5e0>, <shapely.geometry.linestring.LineString object at 0x7ff3a9c2e5b0>, <shapely.geometry.linestring.LineString object at 0x7ff3a9c2e670>, <shapely.geometry.linestring.LineString object at 0x7ff3a9c2e6a0>, <shapely.geometry.linestring.LineString object at 0x7ff3a9c2e700>, <shapely.geometry.linestring.LineString object at 0x7ff3a9c2e640>, <shapely.geometry.linestring.LineString object at 0x7ff3a9c2e760>, <shapely.geometry.linestring.LineString object at 0x7ff3a9c2e790>, <shapely.geometry.linestring.LineString object at 0x7ff3a9c2e7c0>, <shapely.geometry.linestring.LineString object at 0x7ff3a9c2e730>, <shapely.geometry.linestring.LineString object at 0x7ff3a9c2e7f0>, <shapely.geometry.linestring.LineString object at 0x7ff3a9c2e8b0>, <shapely.geometry.linestring.LineString object at 0x7ff3a9c2e610>, <shapely.geometry.linestring.LineString object at 0x7ff3a9c2e910>, <shapely.geometry.linestring.LineString object at 0x7ff3a9c2e9a0>, <shapely.geometry.linestring.LineString object at 0x7ff3a9c2e820>, <shapely.geometry.linestring.LineString object at 0x7ff3a9c2ea60>, <shapely.geometry.linestring.LineString object at 0x7ff3a9c2e6d0>, <shapely.geometry.linestring.LineString object at 0x7ff3a9c2eac0>, <shapely.geometry.linestring.LineString object at 0x7ff3a9c2eaf0>, <shapely.geometry.linestring.LineString object at 0x7ff3a9c2ea30>, <shapely.geometry.linestring.LineString object at 0x7ff3a9c2ec10>, <shapely.geometry.linestring.LineString object at 0x7ff3a9c2eb80>, <shapely.geometry.linestring.LineString object at 0x7ff3a9c2ebe0>, <shapely.geometry.linestring.LineString object at 0x7ff3a9c2ed00>, <shapely.geometry.linestring.LineString object at 0x7ff3a9c2eb20>, <shapely.geometry.linestring.LineString object at 0x7ff3a9c2e880>, <shapely.geometry.linestring.LineString object at 0x7ff3a9c2ed30>, <shapely.geometry.linestring.LineString object at 0x7ff3a9c2ed60>, <shapely.geometry.linestring.LineString object at 0x7ff3a9c05880>]\n"
     ]
    }
   ],
   "source": [
    "result = []\n",
    "sublist = []\n",
    "\n",
    "separators = sortpointcoords[1:-1]\n",
    "\n",
    "for x in coords:\n",
    "    if x in separators:\n",
    "        if sublist:\n",
    "            sublist.append(x)\n",
    "            result.append(LineString(sublist))\n",
    "        sublist = [x]\n",
    "    else:\n",
    "        sublist.append(x)\n",
    "result.append(LineString(sublist))"
   ]
  },
  {
   "cell_type": "code",
   "execution_count": 282,
   "metadata": {},
   "outputs": [
    {
     "data": {
      "text/html": [
       "<div>\n",
       "<style scoped>\n",
       "    .dataframe tbody tr th:only-of-type {\n",
       "        vertical-align: middle;\n",
       "    }\n",
       "\n",
       "    .dataframe tbody tr th {\n",
       "        vertical-align: top;\n",
       "    }\n",
       "\n",
       "    .dataframe thead th {\n",
       "        text-align: right;\n",
       "    }\n",
       "</style>\n",
       "<table border=\"1\" class=\"dataframe\">\n",
       "  <thead>\n",
       "    <tr style=\"text-align: right;\">\n",
       "      <th></th>\n",
       "      <th>id</th>\n",
       "      <th>geometry</th>\n",
       "      <th>route_dist</th>\n",
       "      <th>stop1</th>\n",
       "      <th>stop1N</th>\n",
       "      <th>stop2</th>\n",
       "      <th>stop2N</th>\n",
       "      <th>peak_speed</th>\n",
       "      <th>free_speed</th>\n",
       "      <th>routes</th>\n",
       "    </tr>\n",
       "  </thead>\n",
       "  <tbody>\n",
       "    <tr>\n",
       "      <th>0</th>\n",
       "      <td>0</td>\n",
       "      <td>LINESTRING (144.97803 -37.74280, 144.97803 -37...</td>\n",
       "      <td>175.945821</td>\n",
       "      <td>19368</td>\n",
       "      <td>135-Bell St/Nicholson St (Coburg)</td>\n",
       "      <td>18730</td>\n",
       "      <td>134-Merribell Ave/Nicholson St (Coburg)</td>\n",
       "      <td>20</td>\n",
       "      <td>40</td>\n",
       "      <td>0</td>\n",
       "    </tr>\n",
       "    <tr>\n",
       "      <th>1</th>\n",
       "      <td>1</td>\n",
       "      <td>LINESTRING (144.97781 -37.74437, 144.97772 -37...</td>\n",
       "      <td>227.069166</td>\n",
       "      <td>18730</td>\n",
       "      <td>134-Merribell Ave/Nicholson St (Coburg)</td>\n",
       "      <td>18729</td>\n",
       "      <td>133-Harding St/Nicholson St (Coburg)</td>\n",
       "      <td>20</td>\n",
       "      <td>40</td>\n",
       "      <td>0</td>\n",
       "    </tr>\n",
       "    <tr>\n",
       "      <th>2</th>\n",
       "      <td>2</td>\n",
       "      <td>LINESTRING (144.97739 -37.74638, 144.97690 -37...</td>\n",
       "      <td>340.509932</td>\n",
       "      <td>18729</td>\n",
       "      <td>133-Harding St/Nicholson St (Coburg)</td>\n",
       "      <td>18728</td>\n",
       "      <td>132-Crozier St/Nicholson St (Coburg)</td>\n",
       "      <td>20</td>\n",
       "      <td>40</td>\n",
       "      <td>0</td>\n",
       "    </tr>\n",
       "    <tr>\n",
       "      <th>3</th>\n",
       "      <td>3</td>\n",
       "      <td>LINESTRING (144.97689 -37.74943, 144.97660 -37...</td>\n",
       "      <td>215.520283</td>\n",
       "      <td>18728</td>\n",
       "      <td>132-Crozier St/Nicholson St (Coburg)</td>\n",
       "      <td>18727</td>\n",
       "      <td>131-Rennie St/Nicholson St (Coburg)</td>\n",
       "      <td>20</td>\n",
       "      <td>40</td>\n",
       "      <td>0</td>\n",
       "    </tr>\n",
       "    <tr>\n",
       "      <th>4</th>\n",
       "      <td>4</td>\n",
       "      <td>LINESTRING (144.97658 -37.75135, 144.97636 -37...</td>\n",
       "      <td>254.149004</td>\n",
       "      <td>18727</td>\n",
       "      <td>131-Rennie St/Nicholson St (Coburg)</td>\n",
       "      <td>18726</td>\n",
       "      <td>130-The Avenue/Nicholson St (Coburg)</td>\n",
       "      <td>20</td>\n",
       "      <td>40</td>\n",
       "      <td>0</td>\n",
       "    </tr>\n",
       "  </tbody>\n",
       "</table>\n",
       "</div>"
      ],
      "text/plain": [
       "   id                                           geometry  route_dist  stop1  \\\n",
       "0   0  LINESTRING (144.97803 -37.74280, 144.97803 -37...  175.945821  19368   \n",
       "1   1  LINESTRING (144.97781 -37.74437, 144.97772 -37...  227.069166  18730   \n",
       "2   2  LINESTRING (144.97739 -37.74638, 144.97690 -37...  340.509932  18729   \n",
       "3   3  LINESTRING (144.97689 -37.74943, 144.97660 -37...  215.520283  18728   \n",
       "4   4  LINESTRING (144.97658 -37.75135, 144.97636 -37...  254.149004  18727   \n",
       "\n",
       "                                    stop1N  stop2  \\\n",
       "0        135-Bell St/Nicholson St (Coburg)  18730   \n",
       "1  134-Merribell Ave/Nicholson St (Coburg)  18729   \n",
       "2     133-Harding St/Nicholson St (Coburg)  18728   \n",
       "3     132-Crozier St/Nicholson St (Coburg)  18727   \n",
       "4      131-Rennie St/Nicholson St (Coburg)  18726   \n",
       "\n",
       "                                    stop2N  peak_speed  free_speed routes  \n",
       "0  134-Merribell Ave/Nicholson St (Coburg)          20          40      0  \n",
       "1     133-Harding St/Nicholson St (Coburg)          20          40      0  \n",
       "2     132-Crozier St/Nicholson St (Coburg)          20          40      0  \n",
       "3      131-Rennie St/Nicholson St (Coburg)          20          40      0  \n",
       "4     130-The Avenue/Nicholson St (Coburg)          20          40      0  "
      ]
     },
     "execution_count": 282,
     "metadata": {},
     "output_type": "execute_result"
    }
   ],
   "source": [
    "newshape = gpd.GeoDataFrame(geometry = result,crs=\"EPSG:4326\")\n",
    "newshape['route_dist'] = stops['distance'].shift(-1)\n",
    "newshape['stop1'] = stops['id']\n",
    "newshape['stop1N'] = stops['name']\n",
    "newshape['stop2'] = stops['id'].shift(-1)\n",
    "newshape['stop2'] = newshape['stop2'].apply(int)\n",
    "newshape['stop2N'] = stops['name'].shift(-1)\n",
    "newshape.index.rename('id',inplace=True)\n",
    "newshape.reset_index(inplace=True)\n",
    "newshape['peak_speed'] = 20\n",
    "newshape['free_speed'] = 40\n",
    "newshape['routes'] = '0'\n",
    "\n",
    "newshape.head()"
   ]
  },
  {
   "cell_type": "code",
   "execution_count": 283,
   "metadata": {},
   "outputs": [
    {
     "data": {
      "text/plain": [
       "'EPSG:4326'"
      ]
     },
     "execution_count": 283,
     "metadata": {},
     "output_type": "execute_result"
    }
   ],
   "source": [
    "newshape.crs"
   ]
  },
  {
   "cell_type": "code",
   "execution_count": 280,
   "metadata": {},
   "outputs": [],
   "source": [
    "newshape.to_file(\"Tramsegments.shp\")"
   ]
  },
  {
   "cell_type": "code",
   "execution_count": 348,
   "metadata": {},
   "outputs": [],
   "source": [
    "import pandas as pd\n",
    "\n",
    "from simpledbf import Dbf5\n",
    "\n",
    "dbf = Dbf5('PTLINK.DBF')\n",
    "\n",
    "df = dbf.to_dataframe()"
   ]
  },
  {
   "cell_type": "code",
   "execution_count": 311,
   "metadata": {},
   "outputs": [],
   "source": [
    "distsum = 0\n",
    "timesum = 0\n",
    "def runloop(row):\n",
    "    global distsum, timesum\n",
    "    distsum += row['DIST']\n",
    "    timesum += row['TIME']\n",
    "    if row['STOPB'] == 1:\n",
    "        totaldist = distsum\n",
    "        totaltime = timesum\n",
    "        distsum = 0\n",
    "        timesum = 0\n",
    "        return [totaldist, totaltime]"
   ]
  },
  {
   "cell_type": "code",
   "execution_count": 314,
   "metadata": {},
   "outputs": [
    {
     "name": "stderr",
     "output_type": "stream",
     "text": [
      "<ipython-input-314-5f9aefdd6579>:1: DeprecationWarning: The default dtype for empty Series will be 'object' instead of 'float64' in a future version. Specify a dtype explicitly to silence this warning.\n",
      "  df[['distsum','timesum']] = df.apply(lambda row: pd.Series(runloop(row)), axis=1)\n"
     ]
    }
   ],
   "source": [
    "df[['linkdist','linktime']] = df.apply(lambda row: pd.Series(runloop(row)), axis=1)"
   ]
  },
  {
   "cell_type": "code",
   "execution_count": 319,
   "metadata": {},
   "outputs": [],
   "source": [
    "df = df.drop(['distsum','timesum'], axis=1)"
   ]
  },
  {
   "cell_type": "code",
   "execution_count": 322,
   "metadata": {},
   "outputs": [],
   "source": [
    "df = df.loc[(df.STOPA != 0) | (df.STOPB != 0)]"
   ]
  },
  {
   "cell_type": "code",
   "execution_count": 333,
   "metadata": {},
   "outputs": [
    {
     "data": {
      "text/plain": [
       "Index(['PERIOD', 'PERIODN', 'A', 'B', 'MODE', 'OPERATOR', 'LINENO', 'NAME',\n",
       "       'LONGNAME', 'VEHTYPE', 'VEHNAME', 'SEATCAP', 'CRUSHCAP', 'ADJCAP',\n",
       "       'FARESYS', 'LINKSEQ', 'DIST', 'TIME', 'HEADWAY', 'SERVICE', 'NVEH',\n",
       "       'VOL', 'TOTSCAP', 'TOTCCAP', 'TOTACAP', 'PT_VC', 'STOPA', 'STOPB',\n",
       "       'ONA', 'OFFA', 'ONB', 'OFFB', 'TRAIN', 'TRAM', 'BUS', 'VLINE', 'COACH',\n",
       "       'linkdist', 'linktime'],\n",
       "      dtype='object')"
      ]
     },
     "execution_count": 333,
     "metadata": {},
     "output_type": "execute_result"
    }
   ],
   "source": [
    "df.columns"
   ]
  },
  {
   "cell_type": "code",
   "execution_count": 324,
   "metadata": {},
   "outputs": [],
   "source": [
    "df['STARTNODE'] = df['A'].shift(1)"
   ]
  },
  {
   "cell_type": "code",
   "execution_count": 335,
   "metadata": {},
   "outputs": [],
   "source": [
    "df = df.loc[df['STOPB'] == 1]"
   ]
  },
  {
   "cell_type": "code",
   "execution_count": 336,
   "metadata": {},
   "outputs": [
    {
     "ename": "KeyError",
     "evalue": "'STARTNODE'",
     "output_type": "error",
     "traceback": [
      "\u001b[0;31m---------------------------------------------------------------------------\u001b[0m",
      "\u001b[0;31mKeyError\u001b[0m                                  Traceback (most recent call last)",
      "\u001b[0;32m~/opt/miniconda3/envs/py3/lib/python3.8/site-packages/pandas/core/indexes/base.py\u001b[0m in \u001b[0;36mget_loc\u001b[0;34m(self, key, method, tolerance)\u001b[0m\n\u001b[1;32m   2894\u001b[0m             \u001b[0;32mtry\u001b[0m\u001b[0;34m:\u001b[0m\u001b[0;34m\u001b[0m\u001b[0;34m\u001b[0m\u001b[0m\n\u001b[0;32m-> 2895\u001b[0;31m                 \u001b[0;32mreturn\u001b[0m \u001b[0mself\u001b[0m\u001b[0;34m.\u001b[0m\u001b[0m_engine\u001b[0m\u001b[0;34m.\u001b[0m\u001b[0mget_loc\u001b[0m\u001b[0;34m(\u001b[0m\u001b[0mcasted_key\u001b[0m\u001b[0;34m)\u001b[0m\u001b[0;34m\u001b[0m\u001b[0;34m\u001b[0m\u001b[0m\n\u001b[0m\u001b[1;32m   2896\u001b[0m             \u001b[0;32mexcept\u001b[0m \u001b[0mKeyError\u001b[0m \u001b[0;32mas\u001b[0m \u001b[0merr\u001b[0m\u001b[0;34m:\u001b[0m\u001b[0;34m\u001b[0m\u001b[0;34m\u001b[0m\u001b[0m\n",
      "\u001b[0;32mpandas/_libs/index.pyx\u001b[0m in \u001b[0;36mpandas._libs.index.IndexEngine.get_loc\u001b[0;34m()\u001b[0m\n",
      "\u001b[0;32mpandas/_libs/index.pyx\u001b[0m in \u001b[0;36mpandas._libs.index.IndexEngine.get_loc\u001b[0;34m()\u001b[0m\n",
      "\u001b[0;32mpandas/_libs/hashtable_class_helper.pxi\u001b[0m in \u001b[0;36mpandas._libs.hashtable.PyObjectHashTable.get_item\u001b[0;34m()\u001b[0m\n",
      "\u001b[0;32mpandas/_libs/hashtable_class_helper.pxi\u001b[0m in \u001b[0;36mpandas._libs.hashtable.PyObjectHashTable.get_item\u001b[0;34m()\u001b[0m\n",
      "\u001b[0;31mKeyError\u001b[0m: 'STARTNODE'",
      "\nThe above exception was the direct cause of the following exception:\n",
      "\u001b[0;31mKeyError\u001b[0m                                  Traceback (most recent call last)",
      "\u001b[0;32m<ipython-input-336-27c80c467bf0>\u001b[0m in \u001b[0;36m<module>\u001b[0;34m\u001b[0m\n\u001b[0;32m----> 1\u001b[0;31m \u001b[0mdf\u001b[0m\u001b[0;34m[\u001b[0m\u001b[0;34m'A'\u001b[0m\u001b[0;34m]\u001b[0m \u001b[0;34m=\u001b[0m \u001b[0mdf\u001b[0m\u001b[0;34m[\u001b[0m\u001b[0;34m'STARTNODE'\u001b[0m\u001b[0;34m]\u001b[0m\u001b[0;34m.\u001b[0m\u001b[0mapply\u001b[0m\u001b[0;34m(\u001b[0m\u001b[0mint\u001b[0m\u001b[0;34m)\u001b[0m\u001b[0;34m\u001b[0m\u001b[0;34m\u001b[0m\u001b[0m\n\u001b[0m",
      "\u001b[0;32m~/opt/miniconda3/envs/py3/lib/python3.8/site-packages/pandas/core/frame.py\u001b[0m in \u001b[0;36m__getitem__\u001b[0;34m(self, key)\u001b[0m\n\u001b[1;32m   2900\u001b[0m             \u001b[0;32mif\u001b[0m \u001b[0mself\u001b[0m\u001b[0;34m.\u001b[0m\u001b[0mcolumns\u001b[0m\u001b[0;34m.\u001b[0m\u001b[0mnlevels\u001b[0m \u001b[0;34m>\u001b[0m \u001b[0;36m1\u001b[0m\u001b[0;34m:\u001b[0m\u001b[0;34m\u001b[0m\u001b[0;34m\u001b[0m\u001b[0m\n\u001b[1;32m   2901\u001b[0m                 \u001b[0;32mreturn\u001b[0m \u001b[0mself\u001b[0m\u001b[0;34m.\u001b[0m\u001b[0m_getitem_multilevel\u001b[0m\u001b[0;34m(\u001b[0m\u001b[0mkey\u001b[0m\u001b[0;34m)\u001b[0m\u001b[0;34m\u001b[0m\u001b[0;34m\u001b[0m\u001b[0m\n\u001b[0;32m-> 2902\u001b[0;31m             \u001b[0mindexer\u001b[0m \u001b[0;34m=\u001b[0m \u001b[0mself\u001b[0m\u001b[0;34m.\u001b[0m\u001b[0mcolumns\u001b[0m\u001b[0;34m.\u001b[0m\u001b[0mget_loc\u001b[0m\u001b[0;34m(\u001b[0m\u001b[0mkey\u001b[0m\u001b[0;34m)\u001b[0m\u001b[0;34m\u001b[0m\u001b[0;34m\u001b[0m\u001b[0m\n\u001b[0m\u001b[1;32m   2903\u001b[0m             \u001b[0;32mif\u001b[0m \u001b[0mis_integer\u001b[0m\u001b[0;34m(\u001b[0m\u001b[0mindexer\u001b[0m\u001b[0;34m)\u001b[0m\u001b[0;34m:\u001b[0m\u001b[0;34m\u001b[0m\u001b[0;34m\u001b[0m\u001b[0m\n\u001b[1;32m   2904\u001b[0m                 \u001b[0mindexer\u001b[0m \u001b[0;34m=\u001b[0m \u001b[0;34m[\u001b[0m\u001b[0mindexer\u001b[0m\u001b[0;34m]\u001b[0m\u001b[0;34m\u001b[0m\u001b[0;34m\u001b[0m\u001b[0m\n",
      "\u001b[0;32m~/opt/miniconda3/envs/py3/lib/python3.8/site-packages/pandas/core/indexes/base.py\u001b[0m in \u001b[0;36mget_loc\u001b[0;34m(self, key, method, tolerance)\u001b[0m\n\u001b[1;32m   2895\u001b[0m                 \u001b[0;32mreturn\u001b[0m \u001b[0mself\u001b[0m\u001b[0;34m.\u001b[0m\u001b[0m_engine\u001b[0m\u001b[0;34m.\u001b[0m\u001b[0mget_loc\u001b[0m\u001b[0;34m(\u001b[0m\u001b[0mcasted_key\u001b[0m\u001b[0;34m)\u001b[0m\u001b[0;34m\u001b[0m\u001b[0;34m\u001b[0m\u001b[0m\n\u001b[1;32m   2896\u001b[0m             \u001b[0;32mexcept\u001b[0m \u001b[0mKeyError\u001b[0m \u001b[0;32mas\u001b[0m \u001b[0merr\u001b[0m\u001b[0;34m:\u001b[0m\u001b[0;34m\u001b[0m\u001b[0;34m\u001b[0m\u001b[0m\n\u001b[0;32m-> 2897\u001b[0;31m                 \u001b[0;32mraise\u001b[0m \u001b[0mKeyError\u001b[0m\u001b[0;34m(\u001b[0m\u001b[0mkey\u001b[0m\u001b[0;34m)\u001b[0m \u001b[0;32mfrom\u001b[0m \u001b[0merr\u001b[0m\u001b[0;34m\u001b[0m\u001b[0;34m\u001b[0m\u001b[0m\n\u001b[0m\u001b[1;32m   2898\u001b[0m \u001b[0;34m\u001b[0m\u001b[0m\n\u001b[1;32m   2899\u001b[0m         \u001b[0;32mif\u001b[0m \u001b[0mtolerance\u001b[0m \u001b[0;32mis\u001b[0m \u001b[0;32mnot\u001b[0m \u001b[0;32mNone\u001b[0m\u001b[0;34m:\u001b[0m\u001b[0;34m\u001b[0m\u001b[0;34m\u001b[0m\u001b[0m\n",
      "\u001b[0;31mKeyError\u001b[0m: 'STARTNODE'"
     ]
    }
   ],
   "source": [
    "df['A'] = df['STARTNODE'].apply(int)"
   ]
  },
  {
   "cell_type": "code",
   "execution_count": 330,
   "metadata": {},
   "outputs": [],
   "source": [
    "df.drop('STARTNODE', axis=1, inplace=True)"
   ]
  },
  {
   "cell_type": "code",
   "execution_count": 340,
   "metadata": {},
   "outputs": [],
   "source": [
    "df = df[['PERIOD','A','B','MODE','LINENO','NAME','LONGNAME','HEADWAY','SERVICE','linkdist','linktime']]"
   ]
  },
  {
   "cell_type": "code",
   "execution_count": 349,
   "metadata": {},
   "outputs": [
    {
     "data": {
      "text/plain": [
       "LONGNAME\n",
       "=St Kilda-Glen Waverley    580\n",
       "AIRCRAFT - FOOTSCRAY       200\n",
       "AIRPORT TO FRANKSTON       484\n",
       "AIRPORT TO MT ELIZA        242\n",
       "AIRPORT TO ROSEBUD         121\n",
       "                          ... \n",
       "Yarraville - Newport       560\n",
       "new route 2385             152\n",
       "new route 2422              92\n",
       "new route 385              152\n",
       "new route 422               92\n",
       "Length: 1105, dtype: int64"
      ]
     },
     "execution_count": 349,
     "metadata": {},
     "output_type": "execute_result"
    }
   ],
   "source": [
    "df.groupby(['LONGNAME']).size()"
   ]
  },
  {
   "cell_type": "code",
   "execution_count": null,
   "metadata": {},
   "outputs": [],
   "source": []
  }
 ],
 "metadata": {
  "kernelspec": {
   "display_name": "Python 3",
   "language": "python",
   "name": "python3"
  },
  "language_info": {
   "codemirror_mode": {
    "name": "ipython",
    "version": 3
   },
   "file_extension": ".py",
   "mimetype": "text/x-python",
   "name": "python",
   "nbconvert_exporter": "python",
   "pygments_lexer": "ipython3",
   "version": "3.8.2"
  }
 },
 "nbformat": 4,
 "nbformat_minor": 4
}
